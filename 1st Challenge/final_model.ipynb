{
 "cells": [
  {
   "cell_type": "markdown",
   "metadata": {
    "execution": {
     "iopub.execute_input": "2022-11-27T09:58:28.742855Z",
     "iopub.status.busy": "2022-11-27T09:58:28.742472Z",
     "iopub.status.idle": "2022-11-27T09:58:28.755065Z",
     "shell.execute_reply": "2022-11-27T09:58:28.752986Z",
     "shell.execute_reply.started": "2022-11-27T09:58:28.742824Z"
    }
   },
   "source": [
    "<table width=100%>\n",
    "<tr>\n",
    "    <td><h1 style=\"text-align: left; font-size:300%;\">\n",
    "        Homework-1\n",
    "    </h1></td>\n",
    "    <td width=\"20%\">\n",
    "    <div style=\"text-align: right\">\n",
    "    <b> ANN2DL 2022</b> <br>\n",
    "    <b> First Homework - 09/11/2022<br>\n",
    "    <b> Team: Heart of Gold<br>\n",
    "    <b> Components:<br>\n",
    "    Emanuele Bianchi <br>\n",
    "    <a href=\"mailto:emanuele6.bianchi@mail.polimi.it\">emanuele.bianchi@mail.polimi.it</a><br>\n",
    "    Junchong Huang <br>\n",
    "    <a href=\"mailto:junchong.huang@mail.polimi.it\">junchong.huang@mail.polimi.it</a><br>\n",
    "    Carlo Manenti <br>\n",
    "    <a href=\"mailto:carlo.manenti@mail.polimi.it\">carlo.manenti@mail.polimi.it</a><br>\n",
    "    </div>\n",
    "    </td>\n",
    "\n",
    "</tr>\n",
    "</table>"
   ]
  },
  {
   "cell_type": "markdown",
   "metadata": {},
   "source": [
    "# Define the enviorement"
   ]
  },
  {
   "cell_type": "markdown",
   "metadata": {},
   "source": [
    "DATASET PATH (DOWN HERE)"
   ]
  },
  {
   "cell_type": "code",
   "execution_count": null,
   "metadata": {},
   "outputs": [],
   "source": [
    "DATASET_PATH = 'inser here the path to the training data final'\n",
    "VALIDATION_PATH = 'inser here a path, in it it will be defined a folder with the validation data in'\n",
    "TRAINING_PATH = 'inser here a path, in it it will be defined a folder with the training data in'"
   ]
  },
  {
   "cell_type": "markdown",
   "metadata": {},
   "source": [
    "Importing libraries"
   ]
  },
  {
   "cell_type": "code",
   "execution_count": null,
   "metadata": {
    "execution": {
     "iopub.execute_input": "2022-11-28T09:31:34.629083Z",
     "iopub.status.busy": "2022-11-28T09:31:34.628553Z",
     "iopub.status.idle": "2022-11-28T09:31:42.646626Z",
     "shell.execute_reply": "2022-11-28T09:31:42.645604Z",
     "shell.execute_reply.started": "2022-11-28T09:31:34.628999Z"
    }
   },
   "outputs": [],
   "source": [
    "# general imports\n",
    "import tensorflow as tf\n",
    "import numpy as np\n",
    "import os\n",
    "import random\n",
    "import pandas as pd\n",
    "from sklearn.metrics import accuracy_score, f1_score, precision_score, recall_score\n",
    "from tensorflow.keras.preprocessing.image import ImageDataGenerator\n",
    "\n",
    "# suppressing warnings\n",
    "import warnings\n",
    "import logging\n",
    "\n",
    "# plots\n",
    "import matplotlib.pyplot as plt\n",
    "import seaborn as sns\n",
    "from sklearn.metrics import classification_report, confusion_matrix\n",
    "\n",
    "\n",
    "# manual split and augmentations\n",
    "from PIL import Image\n",
    "import shutil\n",
    "import albumentations as A\n",
    "import cv2\n",
    "from pathlib import Path\n",
    "from tqdm import tqdm\n",
    "\n",
    "# nice videos \n",
    "from IPython.display import YouTubeVideo\n",
    "\n",
    "# gettin informations about tensorflow (different versions may lead to slightly different results)\n",
    "tfk = tf.keras\n",
    "tfkl = tf.keras.layers\n",
    "print(tf.__version__)"
   ]
  },
  {
   "cell_type": "markdown",
   "metadata": {},
   "source": [
    "note: our version of tensor flow is 2.6.4 since we are using kaggle notebooks to run our scripts. Using Colab will gave us access to a much more up to date version of Tensorflow, but will also render the training step far to slow! Another reason we picked kaggle over Colab is the defined time limit for GPU acceleration. Kaggle give us 30h per week, while Colab does not give us clear information about what we are using as accelators."
   ]
  },
  {
   "cell_type": "markdown",
   "metadata": {},
   "source": [
    "Planting a seed for reproducibility. Our seed of choice is of course 42! \n",
    "note: a seed helps to make our notebook more reproducible, but training model with GPU accelarations will lead to some small variances. Mainly beacuse GPUs leverages stochastics process which renders impossible to repuce exactly the results.  "
   ]
  },
  {
   "cell_type": "code",
   "execution_count": null,
   "metadata": {
    "execution": {
     "iopub.execute_input": "2022-11-28T09:31:45.720865Z",
     "iopub.status.busy": "2022-11-28T09:31:45.720047Z",
     "iopub.status.idle": "2022-11-28T09:31:45.733323Z",
     "shell.execute_reply": "2022-11-28T09:31:45.732038Z",
     "shell.execute_reply.started": "2022-11-28T09:31:45.720819Z"
    }
   },
   "outputs": [],
   "source": [
    "seed = 42 # 'So long and thanks for all the fish' \n",
    "\n",
    "random.seed(seed)\n",
    "os.environ['PYTHONHASHSEED'] = str(seed)\n",
    "np.random.seed(seed)\n",
    "tf.random.set_seed(seed)\n",
    "tf.compat.v1.set_random_seed(seed)"
   ]
  },
  {
   "cell_type": "markdown",
   "metadata": {},
   "source": [
    "Optional: suppres warnings for a cleaner code"
   ]
  },
  {
   "cell_type": "code",
   "execution_count": null,
   "metadata": {
    "execution": {
     "iopub.execute_input": "2022-11-28T09:31:48.152321Z",
     "iopub.status.busy": "2022-11-28T09:31:48.151971Z",
     "iopub.status.idle": "2022-11-28T09:31:48.159367Z",
     "shell.execute_reply": "2022-11-28T09:31:48.158013Z",
     "shell.execute_reply.started": "2022-11-28T09:31:48.152293Z"
    }
   },
   "outputs": [],
   "source": [
    "os.environ['TF_CPP_MIN_LOG_LEVEL'] = '2'\n",
    "warnings.simplefilter(action='ignore', category=FutureWarning)\n",
    "warnings.simplefilter(action='ignore', category=Warning)\n",
    "tf.get_logger().setLevel('INFO')\n",
    "tf.autograph.set_verbosity(0)\n",
    "\n",
    "tf.get_logger().setLevel(logging.ERROR)\n",
    "tf.get_logger().setLevel('ERROR')\n",
    "tf.compat.v1.logging.set_verbosity(tf.compat.v1.logging.ERROR)"
   ]
  },
  {
   "cell_type": "markdown",
   "metadata": {},
   "source": [
    "# Understanding the data"
   ]
  },
  {
   "cell_type": "markdown",
   "metadata": {},
   "source": [
    "## Loading the data"
   ]
  },
  {
   "cell_type": "markdown",
   "metadata": {},
   "source": [
    "Defining the labels"
   ]
  },
  {
   "cell_type": "code",
   "execution_count": null,
   "metadata": {
    "execution": {
     "iopub.execute_input": "2022-11-28T09:31:57.743263Z",
     "iopub.status.busy": "2022-11-28T09:31:57.742565Z",
     "iopub.status.idle": "2022-11-28T09:31:57.748465Z",
     "shell.execute_reply": "2022-11-28T09:31:57.747489Z",
     "shell.execute_reply.started": "2022-11-28T09:31:57.743229Z"
    }
   },
   "outputs": [],
   "source": [
    "# writing labels\n",
    "labels = {0 : 'Species1',             # 0\n",
    "          1 : 'Species2',             # 1\n",
    "          2 : 'Species3',             # 2\n",
    "          3 : 'Species4',             # 3\n",
    "          4 : 'Species5',             # 4\n",
    "          5 : 'Species6',             # 5\n",
    "          6 : 'Species7',             # 6\n",
    "          7 : 'Species8'}             # 7"
   ]
  },
  {
   "cell_type": "markdown",
   "metadata": {
    "execution": {
     "iopub.execute_input": "2022-11-27T10:21:58.967203Z",
     "iopub.status.busy": "2022-11-27T10:21:58.966787Z",
     "iopub.status.idle": "2022-11-27T10:21:58.974910Z",
     "shell.execute_reply": "2022-11-27T10:21:58.973310Z",
     "shell.execute_reply.started": "2022-11-27T10:21:58.967171Z"
    }
   },
   "source": [
    "Defining a generator to access the data"
   ]
  },
  {
   "cell_type": "code",
   "execution_count": null,
   "metadata": {
    "execution": {
     "iopub.execute_input": "2022-11-28T09:32:00.200461Z",
     "iopub.status.busy": "2022-11-28T09:32:00.199897Z",
     "iopub.status.idle": "2022-11-28T09:32:00.776450Z",
     "shell.execute_reply": "2022-11-28T09:32:00.775400Z",
     "shell.execute_reply.started": "2022-11-28T09:32:00.200406Z"
    }
   },
   "outputs": [],
   "source": [
    "\n",
    "# defining the arguments\n",
    "target_size = (96, 96)\n",
    "color_mode = 'rgb'\n",
    "classes = None\n",
    "class_mode = 'categorical'\n",
    "batch_size = 64\n",
    "\n",
    "#loading the data\n",
    "dataset_dir = Image.Path(DATASET_PATH)\n",
    "data_gen = ImageDataGenerator()\n",
    "train_gen = data_gen.flow_from_directory(directory = dataset_dir,\n",
    "                                               target_size = target_size,\n",
    "                                               color_mode = color_mode, \n",
    "                                               class_mode = class_mode,\n",
    "                                               classes = classes,\n",
    "                                               batch_size = batch_size,\n",
    "                                               shuffle=False,\n",
    "                                               seed=seed)"
   ]
  },
  {
   "cell_type": "markdown",
   "metadata": {},
   "source": [
    "We have a total of 3542 image and 8 different classes\n",
    "\n",
    "Let's have a look at how data is organised"
   ]
  },
  {
   "cell_type": "code",
   "execution_count": null,
   "metadata": {
    "execution": {
     "iopub.execute_input": "2022-11-28T09:32:04.795306Z",
     "iopub.status.busy": "2022-11-28T09:32:04.794295Z",
     "iopub.status.idle": "2022-11-28T09:32:05.773651Z",
     "shell.execute_reply": "2022-11-28T09:32:05.772434Z",
     "shell.execute_reply.started": "2022-11-28T09:32:04.795258Z"
    }
   },
   "outputs": [],
   "source": [
    "print(\"Depth 1 (traning data final\")\n",
    "print(\"-------\")\n",
    "#!ls /kaggle/input/homework-1/training_data_final"
   ]
  },
  {
   "cell_type": "code",
   "execution_count": null,
   "metadata": {
    "execution": {
     "iopub.execute_input": "2022-11-28T09:32:09.579841Z",
     "iopub.status.busy": "2022-11-28T09:32:09.579446Z",
     "iopub.status.idle": "2022-11-28T09:32:10.556878Z",
     "shell.execute_reply": "2022-11-28T09:32:10.555590Z",
     "shell.execute_reply.started": "2022-11-28T09:32:09.579810Z"
    }
   },
   "outputs": [],
   "source": [
    "print(\"Depth 2 (Species 1\")\n",
    "print(\"-------\")\n",
    "#!ls /kaggle/input/homework-1/training_data_final/Species1"
   ]
  },
  {
   "cell_type": "markdown",
   "metadata": {},
   "source": [
    "Each species has its own subfolder with its images. This means that we must decide how to split our data into train and validation sets.\n",
    "But first it is better to have a look at some of the images to get an idea of what we are working with."
   ]
  },
  {
   "cell_type": "markdown",
   "metadata": {
    "execution": {
     "iopub.execute_input": "2022-11-27T10:28:24.944725Z",
     "iopub.status.busy": "2022-11-27T10:28:24.944269Z",
     "iopub.status.idle": "2022-11-27T10:28:24.951683Z",
     "shell.execute_reply": "2022-11-27T10:28:24.950139Z",
     "shell.execute_reply.started": "2022-11-27T10:28:24.944688Z"
    }
   },
   "source": [
    "## Looking at the data"
   ]
  },
  {
   "cell_type": "code",
   "execution_count": null,
   "metadata": {
    "execution": {
     "iopub.execute_input": "2022-11-28T09:32:18.355844Z",
     "iopub.status.busy": "2022-11-28T09:32:18.355147Z",
     "iopub.status.idle": "2022-11-28T09:32:24.659982Z",
     "shell.execute_reply": "2022-11-28T09:32:24.656107Z",
     "shell.execute_reply.started": "2022-11-28T09:32:18.355767Z"
    }
   },
   "outputs": [],
   "source": [
    "# can take a while to load, help yourself with something to drink or eat. \n",
    "num_row = 3\n",
    "num_col = 5\n",
    "fig, axes = plt.subplots(num_row, num_col, figsize=(5*num_row,2*num_col))\n",
    "for i in range(num_row*num_col):\n",
    "    batch = next(train_gen)\n",
    "    image = batch[0]\n",
    "    image = image[0]\n",
    "    \n",
    "    target = batch[1]\n",
    "    target = target[0]\n",
    "    target_idx = np.argmax(target)\n",
    "    \n",
    "    ax = axes[i//num_col, i%num_col]\n",
    "    ax.imshow(np.uint8(image))\n",
    "    ax.set_title('{}'.format(labels[target_idx]))"
   ]
  },
  {
   "cell_type": "markdown",
   "metadata": {},
   "source": [
    " We can start to get an idea of the problem!"
   ]
  },
  {
   "cell_type": "markdown",
   "metadata": {},
   "source": [
    "A very poor way of loading the data starting from the generators"
   ]
  },
  {
   "cell_type": "code",
   "execution_count": null,
   "metadata": {
    "execution": {
     "iopub.execute_input": "2022-11-28T09:32:37.754616Z",
     "iopub.status.busy": "2022-11-28T09:32:37.754257Z",
     "iopub.status.idle": "2022-11-28T09:32:55.036863Z",
     "shell.execute_reply": "2022-11-28T09:32:55.035852Z",
     "shell.execute_reply.started": "2022-11-28T09:32:37.754585Z"
    }
   },
   "outputs": [],
   "source": [
    "# loading all the data\n",
    "train_gen.reset() # resetting to the first batch\n",
    "X_train, y_train = next(train_gen) # loading the first batch to create X_train and y_train\n",
    "for i in range(len(train_gen)-1): # -1 since we have already loaded the first batch. \n",
    "    img, label = next(train_gen)\n",
    "    X_train = np.append(X_train, img, axis=0 )\n",
    "    y_train = np.append(y_train, label, axis=0)\n",
    "print(X_train.shape, y_train.shape)"
   ]
  },
  {
   "cell_type": "code",
   "execution_count": null,
   "metadata": {
    "execution": {
     "iopub.execute_input": "2022-11-28T10:04:23.303542Z",
     "iopub.status.busy": "2022-11-28T10:04:23.302696Z",
     "iopub.status.idle": "2022-11-28T10:04:23.702966Z",
     "shell.execute_reply": "2022-11-28T10:04:23.702044Z",
     "shell.execute_reply.started": "2022-11-28T10:04:23.303508Z"
    }
   },
   "outputs": [],
   "source": [
    "class_labels = np.argmax(y_train, axis=1) # un-doing One Hot encoding\n",
    "data = pd.DataFrame(class_labels, columns = ['Images']) # defining a dataframe for later use\n",
    "\n",
    "plt.figure(figsize = (12, 6)) # plotting the percentrage of each Species in the dataset \n",
    "#p = sns.countplot(x=data['Images'])\n",
    "percentage = lambda i: len(i) / float(len(data['Images'])) * 100\n",
    "\n",
    "ax = sns.barplot(x=data['Images'], y=data['Images'],  estimator=percentage, palette =sns.color_palette(\"GnBu\", 8))\n",
    "ax.set(ylabel=\"Percent\")\n",
    "ax.set(xlabel=\"Species\")\n",
    "\n",
    "ax.set(title='Percentage of each Species in the dataset')\n",
    "plt.show()"
   ]
  },
  {
   "cell_type": "markdown",
   "metadata": {},
   "source": [
    "From the plot we can clearly see that Species1 and 6 are under represented! \n",
    "Let's have a closer look at the number of images in each class"
   ]
  },
  {
   "cell_type": "code",
   "execution_count": null,
   "metadata": {
    "execution": {
     "iopub.execute_input": "2022-11-28T09:53:16.601589Z",
     "iopub.status.busy": "2022-11-28T09:53:16.601138Z",
     "iopub.status.idle": "2022-11-28T09:53:16.620536Z",
     "shell.execute_reply": "2022-11-28T09:53:16.619392Z",
     "shell.execute_reply.started": "2022-11-28T09:53:16.601553Z"
    }
   },
   "outputs": [],
   "source": [
    "data.value_counts(ascending = True)"
   ]
  },
  {
   "cell_type": "markdown",
   "metadata": {},
   "source": [
    "Only Species1 and 6 have less than 500 images! This is one problem that must be handle. "
   ]
  },
  {
   "cell_type": "markdown",
   "metadata": {},
   "source": [
    "To visualise each image we can also re-use the code from the lab. \n",
    "(This is Lomurno's code, all thanks to him!) "
   ]
  },
  {
   "cell_type": "code",
   "execution_count": null,
   "metadata": {
    "execution": {
     "iopub.execute_input": "2022-11-28T09:53:20.509474Z",
     "iopub.status.busy": "2022-11-28T09:53:20.509112Z",
     "iopub.status.idle": "2022-11-28T09:53:20.516904Z",
     "shell.execute_reply": "2022-11-28T09:53:20.515694Z",
     "shell.execute_reply.started": "2022-11-28T09:53:20.509444Z"
    }
   },
   "outputs": [],
   "source": [
    "# Lomurno's code! \n",
    "def get_next_batch(generator):\n",
    "    batch = next(generator)\n",
    "\n",
    "    image = batch[0]\n",
    "    target = batch[1]\n",
    "\n",
    "    print(\"(Input) image shape:\", image.shape)\n",
    "    print(\"Target shape:\",target.shape)\n",
    "\n",
    "  # Visualize only the first sample\n",
    "    image = image[0]\n",
    "    target = target[0]\n",
    "    target_idx = np.argmax(target)\n",
    "    print()\n",
    "    print(\"Categorical label:\", target)\n",
    "    print(\"Label:\", target_idx)\n",
    "    print(\"Class name:\", labels[target_idx])\n",
    "    fig = plt.figure(figsize=(6, 4))\n",
    "    plt.imshow(np.uint8(image))\n",
    "\n",
    "    return batch"
   ]
  },
  {
   "cell_type": "code",
   "execution_count": null,
   "metadata": {
    "execution": {
     "iopub.execute_input": "2022-11-28T09:53:23.262222Z",
     "iopub.status.busy": "2022-11-28T09:53:23.261852Z",
     "iopub.status.idle": "2022-11-28T09:53:23.569502Z",
     "shell.execute_reply": "2022-11-28T09:53:23.568543Z",
     "shell.execute_reply.started": "2022-11-28T09:53:23.262192Z"
    }
   },
   "outputs": [],
   "source": [
    "# Get a sample from dataset and show info\n",
    "# Lomurno's code!\n",
    "_ = get_next_batch(train_gen)"
   ]
  },
  {
   "cell_type": "markdown",
   "metadata": {
    "execution": {
     "iopub.execute_input": "2022-11-27T10:47:49.496453Z",
     "iopub.status.busy": "2022-11-27T10:47:49.495894Z",
     "iopub.status.idle": "2022-11-27T10:47:49.504622Z",
     "shell.execute_reply": "2022-11-27T10:47:49.502847Z",
     "shell.execute_reply.started": "2022-11-27T10:47:49.496410Z"
    }
   },
   "source": [
    "This function will be very useful to visualise the images after the preprocessing step, thus having an additional control. "
   ]
  },
  {
   "cell_type": "markdown",
   "metadata": {},
   "source": [
    "# Our Best Model\n",
    "## ResNet-50 fine tuned with augmentations <br> (a.k.a. ResNet_On_Drugs) "
   ]
  },
  {
   "cell_type": "code",
   "execution_count": null,
   "metadata": {
    "execution": {
     "iopub.execute_input": "2022-11-28T09:53:27.181610Z",
     "iopub.status.busy": "2022-11-28T09:53:27.180388Z",
     "iopub.status.idle": "2022-11-28T09:53:31.726184Z",
     "shell.execute_reply": "2022-11-28T09:53:31.725180Z",
     "shell.execute_reply.started": "2022-11-28T09:53:27.181567Z"
    }
   },
   "outputs": [],
   "source": [
    "#ratio of training partition\n",
    "ratio = 0.8\n",
    "\n",
    "#Dataset dir\n",
    "dataset_dir =  Path(PATH)\n",
    "\n",
    "#Directory to put processed data\n",
    "training_dir = Path(TRAINING_PATH) \n",
    "validation_dir = Path(VALIDATION_PATH)\n",
    "\n",
    "#Create non-exist directory\n",
    "training_dir.mkdir(exist_ok=True, parents=True)\n",
    "validation_dir.mkdir(exist_ok=True, parents=True)\n",
    "for i in range (1,9):\n",
    "    (training_dir/f'Species{i}').mkdir(exist_ok=True, parents=True)\n",
    "    (validation_dir/f'Species{i}').mkdir(exist_ok=True, parents=True)\n",
    "\n",
    "#Splitting (I suggest to set the seed for randomly shuffling, for this case is set to 42)\n",
    "for class_folder in tqdm(list(dataset_dir.glob('*')),desc='Classes'):\n",
    "    imgs = list(class_folder.glob('*'))\n",
    "    random.shuffle(imgs) \n",
    "    for idx,img in enumerate(imgs):\n",
    "        if (idx+1)<=(len(imgs)*ratio):\n",
    "            shutil.copy(img, Path(str(img).replace(str(dataset_dir),str(training_dir))))\n",
    "        else:\n",
    "            shutil.copy(img, Path(str(img).replace(str(dataset_dir),str(validation_dir))))"
   ]
  },
  {
   "cell_type": "code",
   "execution_count": null,
   "metadata": {
    "execution": {
     "iopub.execute_input": "2022-11-28T09:53:34.932294Z",
     "iopub.status.busy": "2022-11-28T09:53:34.931936Z",
     "iopub.status.idle": "2022-11-28T09:53:34.941584Z",
     "shell.execute_reply": "2022-11-28T09:53:34.940605Z",
     "shell.execute_reply.started": "2022-11-28T09:53:34.932264Z"
    }
   },
   "outputs": [],
   "source": [
    "#Quick check to very if the stratification worked\n",
    "print(len(list((training_dir/'Species2').glob('*')))/len(list((validation_dir/'Species2').glob('*'))))"
   ]
  },
  {
   "cell_type": "markdown",
   "metadata": {},
   "source": [
    "## Meta data of the model"
   ]
  },
  {
   "cell_type": "code",
   "execution_count": null,
   "metadata": {
    "execution": {
     "iopub.execute_input": "2022-11-28T09:53:37.597255Z",
     "iopub.status.busy": "2022-11-28T09:53:37.596551Z",
     "iopub.status.idle": "2022-11-28T09:53:37.602692Z",
     "shell.execute_reply": "2022-11-28T09:53:37.601701Z",
     "shell.execute_reply.started": "2022-11-28T09:53:37.597221Z"
    }
   },
   "outputs": [],
   "source": [
    "#meta data\n",
    "input_shape = (96, 96, 3)\n",
    "\n",
    "# image data \n",
    "target_size = (96, 96)\n",
    "color_mode = 'rgb'\n",
    "classes = None\n",
    "class_mode = 'categorical'\n",
    "batch_size = 16 "
   ]
  },
  {
   "cell_type": "markdown",
   "metadata": {},
   "source": [
    "## Defining the generators for the model"
   ]
  },
  {
   "cell_type": "code",
   "execution_count": null,
   "metadata": {
    "execution": {
     "iopub.execute_input": "2022-11-28T09:53:40.806884Z",
     "iopub.status.busy": "2022-11-28T09:53:40.806513Z",
     "iopub.status.idle": "2022-11-28T09:53:41.026811Z",
     "shell.execute_reply": "2022-11-28T09:53:41.025716Z",
     "shell.execute_reply.started": "2022-11-28T09:53:40.806854Z"
    }
   },
   "outputs": [],
   "source": [
    "from tensorflow.keras.applications.resnet import preprocess_input \n",
    "\n",
    "# Generator with augmentations and pre-processing \n",
    "train_data_gen = ImageDataGenerator(preprocessing_function=preprocess_input,\n",
    "                                        height_shift_range=30,\n",
    "                                        width_shift_range=30,\n",
    "                                        horizontal_flip=True,\n",
    "                                        vertical_flip = True,\n",
    "                                        fill_mode='reflect') \n",
    "\n",
    "# Generator without augmentation, but with pre-processing \n",
    "valid_data_gen = ImageDataGenerator(preprocessing_function = preprocess_input) \n",
    "\n",
    "#  Defining the training and validation generators! \n",
    "train_gen = train_data_gen.flow_from_directory(directory=training_dir,\n",
    "                                               shuffle=True,\n",
    "                                               target_size=target_size,\n",
    "                                               color_mode=color_mode,\n",
    "                                               classes=classes, \n",
    "                                               class_mode=class_mode,\n",
    "                                               batch_size=batch_size,\n",
    "                                               seed=seed)\n",
    "\n",
    "valid_gen = valid_data_gen.flow_from_directory(directory=validation_dir, \n",
    "                                               shuffle=False,             \n",
    "                                               target_size=target_size,\n",
    "                                               color_mode=color_mode,\n",
    "                                               classes=classes, \n",
    "                                               class_mode=class_mode,\n",
    "                                               batch_size=batch_size,\n",
    "                                               seed=seed)"
   ]
  },
  {
   "cell_type": "markdown",
   "metadata": {},
   "source": [
    "## Importing ResNet50"
   ]
  },
  {
   "cell_type": "code",
   "execution_count": null,
   "metadata": {
    "execution": {
     "iopub.execute_input": "2022-11-28T09:53:44.259849Z",
     "iopub.status.busy": "2022-11-28T09:53:44.259476Z",
     "iopub.status.idle": "2022-11-28T09:53:50.118433Z",
     "shell.execute_reply": "2022-11-28T09:53:50.117449Z",
     "shell.execute_reply.started": "2022-11-28T09:53:44.259817Z"
    }
   },
   "outputs": [],
   "source": [
    "# importing our backbone of choice, ResNet50\n",
    "supernet2 = tf.keras.applications.ResNet50(\n",
    "    include_top=False,\n",
    "    weights=\"imagenet\",\n",
    "    input_shape=(96, 96, 3)\n",
    ")\n",
    "\n",
    "supernet2.trainable = False # freezing the ResNet50 layers"
   ]
  },
  {
   "cell_type": "markdown",
   "metadata": {},
   "source": [
    "## Building the model"
   ]
  },
  {
   "cell_type": "code",
   "execution_count": null,
   "metadata": {
    "execution": {
     "iopub.execute_input": "2022-11-28T09:53:50.121939Z",
     "iopub.status.busy": "2022-11-28T09:53:50.121241Z",
     "iopub.status.idle": "2022-11-28T09:53:50.529866Z",
     "shell.execute_reply": "2022-11-28T09:53:50.527567Z",
     "shell.execute_reply.started": "2022-11-28T09:53:50.121900Z"
    }
   },
   "outputs": [],
   "source": [
    "inputs = tfk.Input(shape=(96,96,3))\n",
    "x = supernet2(inputs,training=False)\n",
    "x = tfkl.GlobalAveragePooling2D(name='gpooling')(x)\n",
    "outputs = tfkl.Dense(8, activation='softmax', kernel_initializer = tfk.initializers.GlorotUniform(seed))(x)\n",
    "\n",
    "# Connect input and output through the Model class\n",
    "tl_model = tfk.Model(inputs=inputs, outputs=outputs, name='model')\n",
    "\n",
    "# Compile the model\n",
    "tl_model.compile(loss=tfk.losses.CategoricalCrossentropy(), optimizer=tfk.optimizers.Adam(), metrics='accuracy')\n",
    "tl_model.summary()"
   ]
  },
  {
   "cell_type": "markdown",
   "metadata": {},
   "source": [
    "## Training the model"
   ]
  },
  {
   "cell_type": "code",
   "execution_count": null,
   "metadata": {
    "execution": {
     "iopub.execute_input": "2022-11-28T09:54:08.916850Z",
     "iopub.status.busy": "2022-11-28T09:54:08.916474Z",
     "iopub.status.idle": "2022-11-28T09:54:34.947164Z",
     "shell.execute_reply": "2022-11-28T09:54:34.946169Z",
     "shell.execute_reply.started": "2022-11-28T09:54:08.916820Z"
    }
   },
   "outputs": [],
   "source": [
    "history = tl_model.fit(\n",
    "    x = train_gen,\n",
    "    epochs = 25,\n",
    "    validation_data = valid_gen,\n",
    "    callbacks = [tfk.callbacks.EarlyStopping(monitor='val_accuracy', mode='max', patience=10, restore_best_weights=True)]\n",
    ").history\n",
    "\n",
    "# for the best model, early stop did not triggered. So we avoid using early stop and train for all the 25 epochs"
   ]
  },
  {
   "cell_type": "code",
   "execution_count": null,
   "metadata": {
    "execution": {
     "iopub.execute_input": "2022-11-28T09:55:13.345501Z",
     "iopub.status.busy": "2022-11-28T09:55:13.345092Z",
     "iopub.status.idle": "2022-11-28T09:55:41.324937Z",
     "shell.execute_reply": "2022-11-28T09:55:41.323921Z",
     "shell.execute_reply.started": "2022-11-28T09:55:13.345467Z"
    }
   },
   "outputs": [],
   "source": [
    "tl_model.save('ResNet50_vanilla') # just to be sure we save the model! "
   ]
  },
  {
   "cell_type": "markdown",
   "metadata": {},
   "source": [
    "## Using a bigger batch size"
   ]
  },
  {
   "cell_type": "code",
   "execution_count": null,
   "metadata": {
    "execution": {
     "iopub.execute_input": "2022-11-28T09:54:53.763702Z",
     "iopub.status.busy": "2022-11-28T09:54:53.763307Z",
     "iopub.status.idle": "2022-11-28T09:54:53.980931Z",
     "shell.execute_reply": "2022-11-28T09:54:53.979931Z",
     "shell.execute_reply.started": "2022-11-28T09:54:53.763647Z"
    }
   },
   "outputs": [],
   "source": [
    "batch_size = 64 # using a bigger batch size\n",
    "\n",
    "aug_train_gen = train_data_gen.flow_from_directory(directory=training_dir,\n",
    "                                                       shuffle=True,\n",
    "                                                       target_size=target_size,\n",
    "                                                       color_mode=color_mode,\n",
    "                                                       classes=classes, \n",
    "                                                       class_mode=class_mode,\n",
    "                                                       batch_size=batch_size,\n",
    "                                                       seed=seed)\n",
    "\n",
    "\n",
    "valid_gen = valid_data_gen.flow_from_directory(directory=validation_dir,\n",
    "                                               shuffle=False,             \n",
    "                                               target_size=target_size,\n",
    "                                               color_mode=color_mode,\n",
    "                                               classes=classes, \n",
    "                                               class_mode=class_mode,\n",
    "                                               batch_size=batch_size,\n",
    "                                               seed=seed)"
   ]
  },
  {
   "cell_type": "code",
   "execution_count": null,
   "metadata": {
    "execution": {
     "iopub.execute_input": "2022-11-28T09:55:45.610425Z",
     "iopub.status.busy": "2022-11-28T09:55:45.609948Z",
     "iopub.status.idle": "2022-11-28T09:55:55.790137Z",
     "shell.execute_reply": "2022-11-28T09:55:55.789160Z",
     "shell.execute_reply.started": "2022-11-28T09:55:45.610391Z"
    }
   },
   "outputs": [],
   "source": [
    "ft_model = tfk.models.load_model('ResNet50_vanilla') # loading the model and assigning it to a different variable name for later comparison"
   ]
  },
  {
   "cell_type": "markdown",
   "metadata": {},
   "source": [
    "## Unfreezing all the layers"
   ]
  },
  {
   "cell_type": "code",
   "execution_count": null,
   "metadata": {
    "execution": {
     "iopub.execute_input": "2022-11-28T09:56:03.803294Z",
     "iopub.status.busy": "2022-11-28T09:56:03.802512Z",
     "iopub.status.idle": "2022-11-28T09:56:03.820339Z",
     "shell.execute_reply": "2022-11-28T09:56:03.819297Z",
     "shell.execute_reply.started": "2022-11-28T09:56:03.803249Z"
    }
   },
   "outputs": [],
   "source": [
    "selected_model = 'resnet50'\n",
    "\n",
    "# unfreezing the ResNet50 layers\n",
    "ft_model.get_layer(selected_model).trainable = True"
   ]
  },
  {
   "cell_type": "code",
   "execution_count": null,
   "metadata": {
    "execution": {
     "iopub.execute_input": "2022-11-28T09:56:07.349756Z",
     "iopub.status.busy": "2022-11-28T09:56:07.349374Z",
     "iopub.status.idle": "2022-11-28T09:56:07.368282Z",
     "shell.execute_reply": "2022-11-28T09:56:07.367195Z",
     "shell.execute_reply.started": "2022-11-28T09:56:07.349724Z"
    }
   },
   "outputs": [],
   "source": [
    "# re-compiling the model\n",
    "ft_model.compile(loss=tfk.losses.CategoricalCrossentropy(), optimizer=tfk.optimizers.Adam(1e-5), metrics='accuracy')"
   ]
  },
  {
   "cell_type": "markdown",
   "metadata": {},
   "source": [
    "## Fine tuning the model"
   ]
  },
  {
   "cell_type": "code",
   "execution_count": null,
   "metadata": {
    "execution": {
     "iopub.execute_input": "2022-11-28T09:56:11.487440Z",
     "iopub.status.busy": "2022-11-28T09:56:11.487046Z",
     "iopub.status.idle": "2022-11-28T09:56:50.011997Z",
     "shell.execute_reply": "2022-11-28T09:56:50.010948Z",
     "shell.execute_reply.started": "2022-11-28T09:56:11.487408Z"
    }
   },
   "outputs": [],
   "source": [
    "# WARNING the training will take around 30 minutes to run and trigger early stop! \n",
    "\n",
    "history = ft_model.fit(\n",
    "    x = train_gen,\n",
    "    epochs = 200,\n",
    "    validation_data = valid_gen,\n",
    "    callbacks = [tfk.callbacks.EarlyStopping(monitor='val_accuracy', mode='max', patience=30, restore_best_weights=True)]\n",
    ").history\n",
    "\n",
    "# early stop triggered at 116 epochs, with a max validation accuracy of 0.8948. "
   ]
  },
  {
   "cell_type": "code",
   "execution_count": null,
   "metadata": {
    "execution": {
     "iopub.execute_input": "2022-11-28T09:57:06.897416Z",
     "iopub.status.busy": "2022-11-28T09:57:06.897059Z",
     "iopub.status.idle": "2022-11-28T09:57:38.390082Z",
     "shell.execute_reply": "2022-11-28T09:57:38.389063Z",
     "shell.execute_reply.started": "2022-11-28T09:57:06.897387Z"
    }
   },
   "outputs": [],
   "source": [
    "ft_model.save('ResNet-On-Drugs')"
   ]
  },
  {
   "cell_type": "markdown",
   "metadata": {},
   "source": [
    "## Evaluating the model"
   ]
  },
  {
   "cell_type": "code",
   "execution_count": null,
   "metadata": {
    "execution": {
     "iopub.execute_input": "2022-11-28T09:57:54.977939Z",
     "iopub.status.busy": "2022-11-28T09:57:54.977547Z",
     "iopub.status.idle": "2022-11-28T09:57:55.429479Z",
     "shell.execute_reply": "2022-11-28T09:57:55.428523Z",
     "shell.execute_reply.started": "2022-11-28T09:57:54.977897Z"
    }
   },
   "outputs": [],
   "source": [
    "# Plot the training vs validation to search for overfitting \n",
    "plt.figure(figsize=(15,5))\n",
    "plt.plot(history['loss'], label='Training', alpha=.3, color='#ff7f0e', linestyle='--')\n",
    "plt.plot(history['val_loss'], label='Validation', alpha=.8, color='#ff7f0e')\n",
    "plt.legend(loc='upper left')\n",
    "plt.title('Loss')\n",
    "plt.grid(alpha=.3)\n",
    "\n",
    "plt.figure(figsize=(15,5))\n",
    "plt.plot(history['accuracy'], label='Training', alpha=.8, color='#ff7f0e', linestyle='--')\n",
    "plt.plot(history['val_accuracy'], label='Validation', alpha=.8, color='#ff7f0e')\n",
    "plt.legend(loc='upper left')\n",
    "plt.title('Accuracy')\n",
    "plt.grid(alpha=.3)\n",
    "\n",
    "plt.show()"
   ]
  },
  {
   "cell_type": "markdown",
   "metadata": {},
   "source": [
    "Some interesting comment about the train-validation gap. "
   ]
  },
  {
   "cell_type": "code",
   "execution_count": null,
   "metadata": {
    "execution": {
     "iopub.execute_input": "2022-11-28T10:02:53.209429Z",
     "iopub.status.busy": "2022-11-28T10:02:53.209073Z",
     "iopub.status.idle": "2022-11-28T10:02:54.199420Z",
     "shell.execute_reply": "2022-11-28T10:02:54.198196Z",
     "shell.execute_reply.started": "2022-11-28T10:02:53.209400Z"
    }
   },
   "outputs": [],
   "source": [
    "evaluated_model = ft_model\n",
    "valid_samples = 713\n",
    "\n",
    "Y_pred = evaluated_model.predict_generator(valid_gen, valid_samples // batch_size+1)\n",
    "y_pred = np.argmax(Y_pred, axis=1)\n",
    "print('Confusion Matrix')\n",
    "print(confusion_matrix(valid_gen.classes, y_pred))\n",
    "print('Classification Report')\n",
    "target_names = labels\n",
    "print(classification_report(valid_gen.classes, y_pred, target_names=target_names.values()))"
   ]
  }
 ],
 "metadata": {
  "kernelspec": {
   "display_name": "Python 3 (ipykernel)",
   "language": "python",
   "name": "python3"
  },
  "language_info": {
   "codemirror_mode": {
    "name": "ipython",
    "version": 3
   },
   "file_extension": ".py",
   "mimetype": "text/x-python",
   "name": "python",
   "nbconvert_exporter": "python",
   "pygments_lexer": "ipython3",
   "version": "3.9.12"
  }
 },
 "nbformat": 4,
 "nbformat_minor": 4
}
